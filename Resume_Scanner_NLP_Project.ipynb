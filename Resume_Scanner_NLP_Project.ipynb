{
  "nbformat": 4,
  "nbformat_minor": 0,
  "metadata": {
    "colab": {
      "provenance": [],
      "authorship_tag": "ABX9TyMLFlHG4A7SmNSsoSEKQEMn",
      "include_colab_link": true
    },
    "kernelspec": {
      "name": "python3",
      "display_name": "Python 3"
    },
    "language_info": {
      "name": "python"
    }
  },
  "cells": [
    {
      "cell_type": "markdown",
      "metadata": {
        "id": "view-in-github",
        "colab_type": "text"
      },
      "source": [
        "<a href=\"https://colab.research.google.com/github/Synoize/CLCX-Calculator-App/blob/main/Resume_Scanner_NLP_Project.ipynb\" target=\"_parent\"><img src=\"https://colab.research.google.com/assets/colab-badge.svg\" alt=\"Open In Colab\"/></a>"
      ]
    },
    {
      "cell_type": "code",
      "execution_count": 27,
      "metadata": {
        "colab": {
          "base_uri": "https://localhost:8080/"
        },
        "id": "2UUvdtEFZJyQ",
        "outputId": "80b98200-12d2-4c13-e9ea-c6749cc5f787"
      },
      "outputs": [
        {
          "output_type": "stream",
          "name": "stdout",
          "text": [
            "Requirement already satisfied: pdf2docx in /usr/local/lib/python3.12/dist-packages (0.5.8)\n",
            "Requirement already satisfied: PyMuPDF>=1.19.0 in /usr/local/lib/python3.12/dist-packages (from pdf2docx) (1.26.4)\n",
            "Requirement already satisfied: python-docx>=0.8.10 in /usr/local/lib/python3.12/dist-packages (from pdf2docx) (1.2.0)\n",
            "Requirement already satisfied: fonttools>=4.24.0 in /usr/local/lib/python3.12/dist-packages (from pdf2docx) (4.60.0)\n",
            "Requirement already satisfied: numpy>=1.17.2 in /usr/local/lib/python3.12/dist-packages (from pdf2docx) (2.0.2)\n",
            "Requirement already satisfied: opencv-python-headless>=4.5 in /usr/local/lib/python3.12/dist-packages (from pdf2docx) (4.12.0.88)\n",
            "Requirement already satisfied: fire>=0.3.0 in /usr/local/lib/python3.12/dist-packages (from pdf2docx) (0.7.1)\n",
            "Requirement already satisfied: termcolor in /usr/local/lib/python3.12/dist-packages (from fire>=0.3.0->pdf2docx) (3.1.0)\n",
            "Requirement already satisfied: lxml>=3.1.0 in /usr/local/lib/python3.12/dist-packages (from python-docx>=0.8.10->pdf2docx) (5.4.0)\n",
            "Requirement already satisfied: typing_extensions>=4.9.0 in /usr/local/lib/python3.12/dist-packages (from python-docx>=0.8.10->pdf2docx) (4.15.0)\n"
          ]
        }
      ],
      "source": [
        "!pip install pdf2docx\n",
        "from pdf2docx import Converter"
      ]
    },
    {
      "cell_type": "code",
      "source": [
        "from pdf2docx import Converter\n",
        "\n",
        "def pdf_to_docx(pdf_file, docx_file):\n",
        "    # Create a converter object\n",
        "    cv = Converter(pdf_file)\n",
        "\n",
        "    # Convert PDF to DOCX\n",
        "    cv.convert(docx_file, start=0, end=None)  # start & end = page range\n",
        "    cv.close()\n",
        "    print(f\"PDF '{pdf_file}' converted to DOCX successfully -> '{docx_file}'\")\n",
        "\n",
        "    return docx_file  # return the generated file path\n",
        "\n",
        "# Example usage\n",
        "r1 = pdf_to_docx(\"/content/resume.pdf\", \"/content/resume-docx1.docx\")\n",
        "r2 = pdf_to_docx(\"/content/resume2.pdf\", \"/content/resume-docx2.docx\")\n",
        "job_description = pdf_to_docx(\"/content/job_description.pdf\", \"/content/job_description.docx\")\n",
        "\n",
        "print(\"First Resume:\", r1)\n",
        "print(\"Second Resume:\", r2)\n",
        "print(\"Job Description:\", job_description)\n"
      ],
      "metadata": {
        "id": "57Zw6csoZodb",
        "colab": {
          "base_uri": "https://localhost:8080/"
        },
        "outputId": "1889ea11-0778-47ee-a91e-9fac938556c1"
      },
      "execution_count": 28,
      "outputs": [
        {
          "output_type": "stream",
          "name": "stdout",
          "text": [
            "PDF '/content/resume.pdf' converted to DOCX successfully -> '/content/resume-docx1.docx'\n",
            "PDF '/content/resume2.pdf' converted to DOCX successfully -> '/content/resume-docx2.docx'\n",
            "PDF '/content/job_description.pdf' converted to DOCX successfully -> '/content/job_description.docx'\n",
            "First Resume: /content/resume-docx1.docx\n",
            "Second Resume: /content/resume-docx2.docx\n",
            "Job Description: /content/job_description.docx\n"
          ]
        }
      ]
    },
    {
      "cell_type": "code",
      "source": [
        "!pip install docx2txt\n",
        "import docx2txt"
      ],
      "metadata": {
        "colab": {
          "base_uri": "https://localhost:8080/"
        },
        "id": "wZK4hnIxAgCP",
        "outputId": "0938acad-0b5d-47c2-c6de-0aaa21e354e3"
      },
      "execution_count": 29,
      "outputs": [
        {
          "output_type": "stream",
          "name": "stdout",
          "text": [
            "Requirement already satisfied: docx2txt in /usr/local/lib/python3.12/dist-packages (0.9)\n"
          ]
        }
      ]
    },
    {
      "cell_type": "code",
      "source": [
        "job_description = docx2txt.process(job_description)\n",
        "resume = docx2txt.process(r1)"
      ],
      "metadata": {
        "id": "Iv-J0_cnBSEw"
      },
      "execution_count": 30,
      "outputs": []
    },
    {
      "cell_type": "code",
      "source": [
        "print(resume)"
      ],
      "metadata": {
        "colab": {
          "base_uri": "https://localhost:8080/"
        },
        "id": "FgYBf3enBbyX",
        "outputId": "6240c892-549c-4245-a92e-6481b270078a"
      },
      "execution_count": 31,
      "outputs": [
        {
          "output_type": "stream",
          "name": "stdout",
          "text": [
            "Shivam Singh\n",
            "\n",
            "Last Updated on 16th August 2025\n",
            "\n",
            "suryavanshivam@gmail.com | +91 6205163577\n",
            "\n",
            "EDUCATION \n",
            "GDRCST, BHILAI \n",
            "Computer Application 2023 – 2026 \n",
            "CGPA - 6.85/10\n",
            "\n",
            "\t\tEXPERIENCE \n",
            "CIRIUAE | Developer & Designer Intern \n",
            "July. 2025 – present | Ajman, Dubai (UAE)\n",
            "• Design and develop at all layers (front-end, back-end, UI/UX, and graphic \t\tdesign) public-facing applications for civilians to access and utilize police\n",
            "\n",
            "resources.\n",
            "\n",
            "SKILLS \n",
            "PROGRAMMING \n",
            "Python • Kotlin • MySQL\n",
            "\n",
            "\t• Co-authored an internal Visual Studio library with custom Bootstrap, WebGrid, \tand form validation extension methods to streamline development.\n",
            "\n",
            "\t• Leveraging Entity Framework for data access and management; proficient with \tHTML, CSS, JavaScript for front-end, and Figma/Canva for design workflows.\n",
            "\n",
            "\n",
            "\n",
            "\n",
            "\n",
            "• HTML/CSS/JavaScript/MongoDB\n",
            "\n",
            "Technologies/Frameworks: \n",
            "Jetpack Compose • ReactJs • NextJs• NodeJs • Tailwind CSS • Shadcn UI• UI/UX Design • AI Tools • Ai Agent• API Integration\n",
            "\n",
            "\n",
            "\n",
            "BYTO - GAMAN TRANSPORT PVT. LTD. | UI Designer Intern May 2025 - June 2025 | Jaipur, Rajasthan\n",
            "\n",
            "• Implemented new features design for transport application in figma\n",
            "\n",
            "• Worked individual to implement responsive design principles created\n",
            "\n",
            "wireframes, prototypes, and high-fidelity mockups using Figma.\n",
            "\n",
            "\n",
            "\n",
            "TOOLS/APPLICATIONS Android Studio • VS Code • Git• Clerk (Auth) • vercel • Nmap• metasploitable2 • OpenCV• Figma • Canva\n",
            "\n",
            "OPERATING SYSTEMS Kali Linux • Windows\n",
            "\n",
            "LINKS\n",
            "\n",
            "Portfolio: synoize.vercel.app \n",
            "Github: github.com/synoize \n",
            "LinkedIn: linkedin.com/in/synoize\n",
            "\n",
            "YUGANT INDUSTRIES PVT. LTD. | UI Designer Intern May 2025 - July 2025 | Kolkata, West Bengal\n",
            "\n",
            "\t• Implemented new features design for Next-Generation Enterprises application \tand website in figma\n",
            "• Worked independently and on small teams to implement responsive design \tprinciples created wireframes, prototypes, and high-fidelity mockups using \tFigma.\n",
            "\n",
            "PROJECTS\n",
            "\n",
            "NEAR DR. – INSTANT APPOINTMENT BOOKING Link \n",
            "| May 2025 \n",
            "Find trusted doctors, schedule appointments, and make healthcare more accessible & hassle-free.\n",
            "\n",
            "• Built full-stack healthcare app with JavaScript, React, and MongoDB for\n",
            "\n",
            "\n",
            "\n",
            "EXTRA CURRICULAR Farmik India Services: Startup \n",
            "Freelancing: Projects\n",
            "\n",
            "\n",
            "\n",
            "real-time doctor-patient scheduling.\n",
            "\n",
            "\t• Integrated Razorpay for payments, Cloudinary for images, and \tresponsive Tailwind CSS UI for smooth booking.\n",
            "\n",
            "UNICORN VERIFY – DOCUMENT ACCESS MANAGEMENT Link | April 2025 \n",
            "Upload, preview, download, and organize your documents management securely and easily.\n",
            "\n",
            "\t• Developed document management system with JavaScript, React, and \tMongoDB for upload, preview, and download.\n",
            "\n",
            "\t• Used Cloudinary for storage and responsive React + Tailwind CSS UI to \timprove accessibility.\n",
            "\n",
            "CERTIFICATIONS\n",
            "\n",
            "\tC Programming \tCoding Spoon \n",
            "React \tLetsUpgrade \n",
            "Python \tLetsUpgrade \n",
            "UI/UX Designing \tCollege Level Contest\n"
          ]
        }
      ]
    },
    {
      "cell_type": "code",
      "source": [
        "content = [job_description, resume]\n",
        "print(content)"
      ],
      "metadata": {
        "colab": {
          "base_uri": "https://localhost:8080/"
        },
        "id": "7ESXAdEOCa2n",
        "outputId": "1d976a4e-16c4-42a8-f710-8ba064046972"
      },
      "execution_count": 32,
      "outputs": [
        {
          "output_type": "stream",
          "name": "stdout",
          "text": [
            "[\"Job Description \\n\\n\\n\\n\\n\\n\\n\\nJob Title: \\nDepartment: \\nReports To: \\nJobs Reporting: Salary Grade: \\nEffective Date:\\n\\nWeb Developer (Full Stack) \\nWaterloo Undergraduate Student Association Manager, Software Development \\nNone \\nUSG 8 \\nAugust 2023 \\n\\nPrimary Purpose \\nReporting to the Manager of Software Development, the Web developer (full stack) is responsible for the end-to-end development of a web applications for the Waterloo Undergraduate Student Association and its affiliated groups. This role involves utilizing a diverse range of technologies and programming languages, such as JavaScript, HTML, CSS, PHP, Vue.js, and Ruby on Rails and more, to design and develop both the front-end (client side) and back-end (server side) components of WUSA's web applications. \\n\\nKey Accountabilities\\n\\nDevelopment of Web Applications \\n\\n\\t•\\tDevelop and maintain web services and interfaces. \\n\\n\\t•\\tWrite code for websites and web applications front and back ends \\n\\n\\t•\\tCreating databases for functionality. \\n\\n\\t•\\tOptimize cross-platform compatibility. \\n\\n\\t•\\tPerform tests, troubleshoot, and debug software, and fix bugs. \\n\\n\\t•\\tCollaborate with other departments on projects and sprints. \\n\\n\\t•\\tWrite object-oriented, clean, and maintainable code.\\n\\n\\t•\\tApply the latest software design techniques and contribute to the technical design of new \\n\\nsolutions. \\n\\n\\t•\\tWork with UX/UI designers and graphic designers to ensure that user interactions on web pages \\n\\nare intuitive and engaging. \\n\\n\\t•\\tKnowledge of e-commerce, security principles, object-oriented design, web services, and \\n\\nmultimedia content development. \\n\\n\\t•\\tUnderstand and implement recommendations regarding web security and standards. \\n\\n\\t•\\tComplete development efforts and code fixes in a timely manner while working independently \\n\\nCollaboration \\n\\n\\t•\\tWork closely with Software Development Manger & Manager of Digital Experience to \\n\\nunderstand project timelines and department priorities. \\n\\n\\t•\\tParticipate in the evaluation and selection of programming languages, tools, methodologies. \\n\\n\\t•\\tWork within other web developers and UX designers individually to provide integration solutions \\n\\nto meet requirements. \\n\\n\\t•\\tEngage with key stakeholders to understand business goals while working towards development \\n\\nefforts independently. \\n\\n\\n\\n\\n\\n\\n\\n\\n\\nJob Description \\n\\n\\n\\n\\n\\n\\n\\n*All employees of the University are expected to follow University and departmental health and safety policy, procedures and work practices at all times. Employees are also responsible for the completion of all health and safety training, as assigned. Employees with staff supervision and/or management responsibilities will ensure that assigned staff abide by the above, and actively identify, assess and correct health and safety hazards, as required. \\n\\nRequired Qualifications\\n\\n\\tEducation \\n•\\tBachelor’s degree, preferably in a technology-related field such as computer science, web \\tdevelopment or software engineering, or equivalent experience \\n\\nExperience \\n\\n\\t•\\t3+ years of application development experience \\n\\n\\t•\\t2+ years of experience in developing website user interfaces with experience working in a large \\n\\norganization with complex information architecture. \\n\\n\\t•\\t1+ years of experience in a technology role related to E-commerce. \\n\\n\\t•\\tDemonstrated experience handling large data sets, including: parsing, scraping, and formatting data \\n\\ninto visualizations. \\n\\n•\\n•\\n\\nProven ability to code complex web applications \\nExperience in the implementation, integration, and customization of enterprise technology, such as \\n\\nERP systems, Point of Sale systems, with ability to manage both applications and databases. \\n\\nKnowledge/Skills/Abilities \\n\\nApplicable experience using the following technologies: \\n\\n\\t•\\tExpert in Client-side JS frameworks (Vue.js or similar) \\n\\n\\t•\\tExpert in Relational database design and usage \\n\\n\\t•\\tExpert in Git source control with experience in common DevOps practices \\n\\n\\t•\\tExpert in building and using APIs (.NET Core or similar) \\n\\n\\t•\\tExpert in MVC frameworks (Ruby on Rails or similar) \\n\\n\\t•\\tThorough understanding of responsive design frameworks and patterns \\n\\n\\t•\\tExperience using tools such as Git, Jira, Confluence and Docker \\n\\n\\t•\\tExperience with Architecture of cloud native applications (Azure) \\n\\n\\t•\\tExperience with Accessibility best practices as they apply to the web \\n\\n\\t•\\tExperience with Microsoft Dynamics NAV/ .NET Framework an asset \\n\\n\\n\\nNature and Scope \\n\\n•\\n\\nContacts: Internally, communicate with employees in all groups and departments throughout the \\n\\nWUSA and at all levels to gather ideas, envision, articulate, update and inform on projects for which the incumbent is the lead or is otherwise accountable. The roles also communicates with \\n\\n•\\n\\nother campus departments to collaborate on shared, or similar, development efforts \\nLevel of Responsibility: The position is responsible and accountable for the overall functionality \\n\\nand maintenance of all developed & integrated applications built or assigned to the role. The position will work towards development and maintenance timelines on projects provided by the \\n\\n•\\n•\\n\\nSoftware Development Manager with minimal supervision. \\n\\nDecision-Making Authority: The incumbent is responsible for developing systems as assigned by the Software Development Manager. Complex issues may require escalation the manager. Physical and Sensory Demands: Minimal demands typical of a position operating within an office \\n\\nenvironment; periods of extensive sitting and concentrated use of visual senses. \\n\\n\\t•\\tWorking Environment: Minimal exposure to disagreeable conditions typical of an office position \\texposed to stress and pressure associated with those responsibilities. The role may be required to \\n\\n\\n\\n\\n\\n\\n\\nJob Description \\n\\n\\n\\n\\n\\n\\n\\nwork outside normal business hours during certain times of the year to support the organization’s needs to accommodate for system failures, upgrades and maintenance.\", 'Shivam Singh\\n\\nLast Updated on 16th August 2025\\n\\nsuryavanshivam@gmail.com | +91 6205163577\\n\\nEDUCATION \\nGDRCST, BHILAI \\nComputer Application 2023 – 2026 \\nCGPA - 6.85/10\\n\\n\\t\\tEXPERIENCE \\nCIRIUAE | Developer & Designer Intern \\nJuly. 2025 – present | Ajman, Dubai (UAE)\\n• Design and develop at all layers (front-end, back-end, UI/UX, and graphic \\t\\tdesign) public-facing applications for civilians to access and utilize police\\n\\nresources.\\n\\nSKILLS \\nPROGRAMMING \\nPython • Kotlin • MySQL\\n\\n\\t• Co-authored an internal Visual Studio library with custom Bootstrap, WebGrid, \\tand form validation extension methods to streamline development.\\n\\n\\t• Leveraging Entity Framework for data access and management; proficient with \\tHTML, CSS, JavaScript for front-end, and Figma/Canva for design workflows.\\n\\n\\n\\n\\n\\n• HTML/CSS/JavaScript/MongoDB\\n\\nTechnologies/Frameworks: \\nJetpack Compose • ReactJs • NextJs• NodeJs • Tailwind CSS • Shadcn UI• UI/UX Design • AI Tools • Ai Agent• API Integration\\n\\n\\n\\nBYTO - GAMAN TRANSPORT PVT. LTD. | UI Designer Intern May 2025 - June 2025 | Jaipur, Rajasthan\\n\\n• Implemented new features design for transport application in figma\\n\\n• Worked individual to implement responsive design principles created\\n\\nwireframes, prototypes, and high-fidelity mockups using Figma.\\n\\n\\n\\nTOOLS/APPLICATIONS Android Studio • VS Code • Git• Clerk (Auth) • vercel • Nmap• metasploitable2 • OpenCV• Figma • Canva\\n\\nOPERATING SYSTEMS Kali Linux • Windows\\n\\nLINKS\\n\\nPortfolio: synoize.vercel.app \\nGithub: github.com/synoize \\nLinkedIn: linkedin.com/in/synoize\\n\\nYUGANT INDUSTRIES PVT. LTD. | UI Designer Intern May 2025 - July 2025 | Kolkata, West Bengal\\n\\n\\t• Implemented new features design for Next-Generation Enterprises application \\tand website in figma\\n• Worked independently and on small teams to implement responsive design \\tprinciples created wireframes, prototypes, and high-fidelity mockups using \\tFigma.\\n\\nPROJECTS\\n\\nNEAR DR. – INSTANT APPOINTMENT BOOKING Link \\n| May 2025 \\nFind trusted doctors, schedule appointments, and make healthcare more accessible & hassle-free.\\n\\n• Built full-stack healthcare app with JavaScript, React, and MongoDB for\\n\\n\\n\\nEXTRA CURRICULAR Farmik India Services: Startup \\nFreelancing: Projects\\n\\n\\n\\nreal-time doctor-patient scheduling.\\n\\n\\t• Integrated Razorpay for payments, Cloudinary for images, and \\tresponsive Tailwind CSS UI for smooth booking.\\n\\nUNICORN VERIFY – DOCUMENT ACCESS MANAGEMENT Link | April 2025 \\nUpload, preview, download, and organize your documents management securely and easily.\\n\\n\\t• Developed document management system with JavaScript, React, and \\tMongoDB for upload, preview, and download.\\n\\n\\t• Used Cloudinary for storage and responsive React + Tailwind CSS UI to \\timprove accessibility.\\n\\nCERTIFICATIONS\\n\\n\\tC Programming \\tCoding Spoon \\nReact \\tLetsUpgrade \\nPython \\tLetsUpgrade \\nUI/UX Designing \\tCollege Level Contest']\n"
          ]
        }
      ]
    },
    {
      "cell_type": "code",
      "source": [
        "from sklearn.feature_extraction.text import CountVectorizer\n",
        "cv = CountVectorizer()\n",
        "matrix = cv.fit_transform(content)\n",
        "print(matrix)"
      ],
      "metadata": {
        "colab": {
          "base_uri": "https://localhost:8080/"
        },
        "id": "s3J125PJE_hW",
        "outputId": "da6d3acb-582d-4663-af52-0beff511219d"
      },
      "execution_count": 33,
      "outputs": [
        {
          "output_type": "stream",
          "name": "stdout",
          "text": [
            "<Compressed Sparse Row sparse matrix of dtype 'int64'\n",
            "\twith 583 stored elements and shape (2, 521)>\n",
            "  Coords\tValues\n",
            "  (0, 257)\t4\n",
            "  (0, 128)\t3\n",
            "  (0, 462)\t1\n",
            "  (0, 125)\t2\n",
            "  (0, 384)\t1\n",
            "  (0, 463)\t23\n",
            "  (0, 258)\t1\n",
            "  (0, 383)\t2\n",
            "  (0, 397)\t1\n",
            "  (0, 211)\t1\n",
            "  (0, 155)\t1\n",
            "  (0, 119)\t1\n",
            "  (0, 499)\t14\n",
            "  (0, 135)\t2\n",
            "  (0, 201)\t2\n",
            "  (0, 427)\t2\n",
            "  (0, 498)\t2\n",
            "  (0, 473)\t2\n",
            "  (0, 435)\t2\n",
            "  (0, 46)\t2\n",
            "  (0, 290)\t6\n",
            "  (0, 422)\t8\n",
            "  (0, 138)\t14\n",
            "  (0, 317)\t1\n",
            "  (0, 486)\t1\n",
            "  :\t:\n",
            "  (1, 80)\t2\n",
            "  (1, 224)\t1\n",
            "  (1, 421)\t1\n",
            "  (1, 476)\t1\n",
            "  (1, 493)\t1\n",
            "  (1, 146)\t2\n",
            "  (1, 37)\t1\n",
            "  (1, 481)\t2\n",
            "  (1, 354)\t2\n",
            "  (1, 148)\t2\n",
            "  (1, 328)\t1\n",
            "  (1, 519)\t1\n",
            "  (1, 147)\t1\n",
            "  (1, 404)\t1\n",
            "  (1, 153)\t1\n",
            "  (1, 484)\t1\n",
            "  (1, 432)\t1\n",
            "  (1, 228)\t1\n",
            "  (1, 71)\t1\n",
            "  (1, 83)\t1\n",
            "  (1, 425)\t1\n",
            "  (1, 273)\t2\n",
            "  (1, 132)\t1\n",
            "  (1, 86)\t1\n",
            "  (1, 104)\t1\n"
          ]
        }
      ]
    },
    {
      "cell_type": "code",
      "source": [
        "from sklearn.metrics.pairwise import cosine_similarity\n",
        "similarity_matrix = cosine_similarity(matrix)\n",
        "print(similarity_matrix)\n"
      ],
      "metadata": {
        "colab": {
          "base_uri": "https://localhost:8080/"
        },
        "id": "w4KR0gGlH7Jh",
        "outputId": "78b494e6-f0d1-4439-da2a-e2df727c5377"
      },
      "execution_count": 34,
      "outputs": [
        {
          "output_type": "stream",
          "name": "stdout",
          "text": [
            "[[1.        0.4959389]\n",
            " [0.4959389 1.       ]]\n"
          ]
        }
      ]
    },
    {
      "cell_type": "code",
      "source": [
        "print(\"Resume matches by: \" + str(similarity_matrix[1][0]*100) + \"%\")"
      ],
      "metadata": {
        "colab": {
          "base_uri": "https://localhost:8080/"
        },
        "id": "0jqKyieOI2_i",
        "outputId": "162e229b-c505-463a-9e24-61220b95ec38"
      },
      "execution_count": 35,
      "outputs": [
        {
          "output_type": "stream",
          "name": "stdout",
          "text": [
            "Resume matches by: 49.593889771602306%\n"
          ]
        }
      ]
    }
  ]
}